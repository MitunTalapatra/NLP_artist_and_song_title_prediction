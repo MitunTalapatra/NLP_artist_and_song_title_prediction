{
 "cells": [
  {
   "cell_type": "markdown",
   "id": "550db64b",
   "metadata": {},
   "source": [
    "## Goal: create base model from using artist_1 and artist_2 dataframes"
   ]
  },
  {
   "cell_type": "code",
   "execution_count": 19,
   "id": "c6fd356b-b0c5-4c56-bf48-34772fc049bf",
   "metadata": {},
   "outputs": [],
   "source": [
    "import pandas as pd\n",
    "import numpy as np\n",
    "import warnings\n",
    "warnings.filterwarnings(\"ignore\")\n",
    "\n",
    "from sklearn.feature_extraction.text import TfidfVectorizer\n",
    "\n",
    "from sklearn.linear_model import LogisticRegression\n",
    "from sklearn.model_selection import train_test_split"
   ]
  },
  {
   "cell_type": "markdown",
   "id": "2be14229-e681-4594-86ee-cacd042a497f",
   "metadata": {
    "tags": []
   },
   "source": [
    "#### - import artist_1 and artist_2 csv"
   ]
  },
  {
   "cell_type": "code",
   "execution_count": 7,
   "id": "058aeb54",
   "metadata": {},
   "outputs": [],
   "source": [
    "artist_1 = pd.read_csv('artist_1.csv', index_col=0)\n",
    "artist_2 = pd.read_csv('artist_2.csv', index_col=0)"
   ]
  },
  {
   "cell_type": "code",
   "execution_count": 8,
   "id": "8f35774d-a9e0-480b-ab3a-e175abd31388",
   "metadata": {
    "collapsed": true,
    "jupyter": {
     "outputs_hidden": true
    },
    "tags": []
   },
   "outputs": [
    {
     "data": {
      "text/html": [
       "<div>\n",
       "<style scoped>\n",
       "    .dataframe tbody tr th:only-of-type {\n",
       "        vertical-align: middle;\n",
       "    }\n",
       "\n",
       "    .dataframe tbody tr th {\n",
       "        vertical-align: top;\n",
       "    }\n",
       "\n",
       "    .dataframe thead th {\n",
       "        text-align: right;\n",
       "    }\n",
       "</style>\n",
       "<table border=\"1\" class=\"dataframe\">\n",
       "  <thead>\n",
       "    <tr style=\"text-align: right;\">\n",
       "      <th></th>\n",
       "      <th>song_title</th>\n",
       "      <th>l_link</th>\n",
       "      <th>lyrics</th>\n",
       "      <th>artist_name</th>\n",
       "    </tr>\n",
       "  </thead>\n",
       "  <tbody>\n",
       "    <tr>\n",
       "      <th>0</th>\n",
       "      <td>Alligator</td>\n",
       "      <td>https://www.lyrics.com//lyric/36182049/Of+Mons...</td>\n",
       "      <td>Hey Hey  I see color raining down Feral feelin...</td>\n",
       "      <td>Of Monsters and Men</td>\n",
       "    </tr>\n",
       "    <tr>\n",
       "      <th>2</th>\n",
       "      <td>Ahay</td>\n",
       "      <td>https://www.lyrics.com//lyric/36406257/Of+Mons...</td>\n",
       "      <td>I know that I'm wrong And now we're both sitti...</td>\n",
       "      <td>Of Monsters and Men</td>\n",
       "    </tr>\n",
       "    <tr>\n",
       "      <th>3</th>\n",
       "      <td>Róróró</td>\n",
       "      <td>https://www.lyrics.com//lyric/36406262/Of+Mons...</td>\n",
       "      <td>I am up with the sunrise I'm tired and I think...</td>\n",
       "      <td>Of Monsters and Men</td>\n",
       "    </tr>\n",
       "    <tr>\n",
       "      <th>4</th>\n",
       "      <td>Waiting for the Snow</td>\n",
       "      <td>https://www.lyrics.com//lyric/36406261/Of+Mons...</td>\n",
       "      <td>I'm waiting for the snow I'm waiting for visio...</td>\n",
       "      <td>Of Monsters and Men</td>\n",
       "    </tr>\n",
       "    <tr>\n",
       "      <th>5</th>\n",
       "      <td>Vulture, Vulture</td>\n",
       "      <td>https://www.lyrics.com//lyric/36406260/Of+Mons...</td>\n",
       "      <td>He lives in the darkness, he's calling my name...</td>\n",
       "      <td>Of Monsters and Men</td>\n",
       "    </tr>\n",
       "    <tr>\n",
       "      <th>...</th>\n",
       "      <td>...</td>\n",
       "      <td>...</td>\n",
       "      <td>...</td>\n",
       "      <td>...</td>\n",
       "    </tr>\n",
       "    <tr>\n",
       "      <th>157</th>\n",
       "      <td>where we are [Acoustic]</td>\n",
       "      <td>https://www.lyrics.com//lyric-lf/7526166/The+L...</td>\n",
       "      <td>Where we are (where we are) I don't know where...</td>\n",
       "      <td>The Lumineers</td>\n",
       "    </tr>\n",
       "    <tr>\n",
       "      <th>163</th>\n",
       "      <td>Democracy</td>\n",
       "      <td>https://www.lyrics.com//lyric/36521451/The+Lum...</td>\n",
       "      <td>It's coming through a hole in the air From tho...</td>\n",
       "      <td>The Lumineers</td>\n",
       "    </tr>\n",
       "    <tr>\n",
       "      <th>167</th>\n",
       "      <td>Old Lady</td>\n",
       "      <td>https://www.lyrics.com//lyric/36521460/The+Lum...</td>\n",
       "      <td>An old lady crosses the street And as she wave...</td>\n",
       "      <td>The Lumineers</td>\n",
       "    </tr>\n",
       "    <tr>\n",
       "      <th>168</th>\n",
       "      <td>Soundtrack Song</td>\n",
       "      <td>https://www.lyrics.com//lyric/36521450/The+Lum...</td>\n",
       "      <td>Loneliness, oh won't you let me be Let me be a...</td>\n",
       "      <td>The Lumineers</td>\n",
       "    </tr>\n",
       "    <tr>\n",
       "      <th>178</th>\n",
       "      <td>Sleep On The Floor</td>\n",
       "      <td>https://www.lyrics.com//lyric/32824629/The+Lum...</td>\n",
       "      <td>Pack yourself a toothbrush dear Pack yourself ...</td>\n",
       "      <td>The Lumineers</td>\n",
       "    </tr>\n",
       "  </tbody>\n",
       "</table>\n",
       "<p>125 rows × 4 columns</p>\n",
       "</div>"
      ],
      "text/plain": [
       "                  song_title  \\\n",
       "0                  Alligator   \n",
       "2                       Ahay   \n",
       "3                     Róróró   \n",
       "4       Waiting for the Snow   \n",
       "5           Vulture, Vulture   \n",
       "..                       ...   \n",
       "157  where we are [Acoustic]   \n",
       "163                Democracy   \n",
       "167                 Old Lady   \n",
       "168          Soundtrack Song   \n",
       "178       Sleep On The Floor   \n",
       "\n",
       "                                                l_link  \\\n",
       "0    https://www.lyrics.com//lyric/36182049/Of+Mons...   \n",
       "2    https://www.lyrics.com//lyric/36406257/Of+Mons...   \n",
       "3    https://www.lyrics.com//lyric/36406262/Of+Mons...   \n",
       "4    https://www.lyrics.com//lyric/36406261/Of+Mons...   \n",
       "5    https://www.lyrics.com//lyric/36406260/Of+Mons...   \n",
       "..                                                 ...   \n",
       "157  https://www.lyrics.com//lyric-lf/7526166/The+L...   \n",
       "163  https://www.lyrics.com//lyric/36521451/The+Lum...   \n",
       "167  https://www.lyrics.com//lyric/36521460/The+Lum...   \n",
       "168  https://www.lyrics.com//lyric/36521450/The+Lum...   \n",
       "178  https://www.lyrics.com//lyric/32824629/The+Lum...   \n",
       "\n",
       "                                                lyrics          artist_name  \n",
       "0    Hey Hey  I see color raining down Feral feelin...  Of Monsters and Men  \n",
       "2    I know that I'm wrong And now we're both sitti...  Of Monsters and Men  \n",
       "3    I am up with the sunrise I'm tired and I think...  Of Monsters and Men  \n",
       "4    I'm waiting for the snow I'm waiting for visio...  Of Monsters and Men  \n",
       "5    He lives in the darkness, he's calling my name...  Of Monsters and Men  \n",
       "..                                                 ...                  ...  \n",
       "157  Where we are (where we are) I don't know where...        The Lumineers  \n",
       "163  It's coming through a hole in the air From tho...        The Lumineers  \n",
       "167  An old lady crosses the street And as she wave...        The Lumineers  \n",
       "168  Loneliness, oh won't you let me be Let me be a...        The Lumineers  \n",
       "178  Pack yourself a toothbrush dear Pack yourself ...        The Lumineers  \n",
       "\n",
       "[125 rows x 4 columns]"
      ]
     },
     "execution_count": 8,
     "metadata": {},
     "output_type": "execute_result"
    }
   ],
   "source": [
    "artist = pd.concat([artist_1, artist_2], axis=0)\n",
    "artist"
   ]
  },
  {
   "cell_type": "markdown",
   "id": "867c5d85",
   "metadata": {},
   "source": [
    "#### - feature vectorizing"
   ]
  },
  {
   "cell_type": "code",
   "execution_count": 10,
   "id": "124174aa-c51f-4dc7-ac8b-e9188911946c",
   "metadata": {},
   "outputs": [
    {
     "data": {
      "text/plain": [
       "<125x1900 sparse matrix of type '<class 'numpy.float64'>'\n",
       "\twith 5798 stored elements in Compressed Sparse Row format>"
      ]
     },
     "execution_count": 10,
     "metadata": {},
     "output_type": "execute_result"
    }
   ],
   "source": [
    "vectorizer = TfidfVectorizer(stop_words='english')\n",
    "X = vectorizer.fit_transform(artist['lyrics'])\n",
    "X"
   ]
  },
  {
   "cell_type": "code",
   "execution_count": 11,
   "id": "49159cb2-5205-4956-8b99-6707688b1654",
   "metadata": {
    "collapsed": true,
    "jupyter": {
     "outputs_hidden": true
    },
    "tags": []
   },
   "outputs": [
    {
     "data": {
      "text/plain": [
       "(125, 1900)"
      ]
     },
     "execution_count": 11,
     "metadata": {},
     "output_type": "execute_result"
    }
   ],
   "source": [
    "X.shape"
   ]
  },
  {
   "cell_type": "code",
   "execution_count": 12,
   "id": "4567e943-2d57-4894-b93e-6c3327bace6b",
   "metadata": {
    "collapsed": true,
    "jupyter": {
     "outputs_hidden": true
    },
    "tags": []
   },
   "outputs": [
    {
     "data": {
      "text/plain": [
       "array([[0., 0., 0., ..., 0., 0., 0.],\n",
       "       [0., 0., 0., ..., 0., 0., 0.],\n",
       "       [0., 0., 0., ..., 0., 0., 0.],\n",
       "       ...,\n",
       "       [0., 0., 0., ..., 0., 0., 0.],\n",
       "       [0., 0., 0., ..., 0., 0., 0.],\n",
       "       [0., 0., 0., ..., 0., 0., 0.]])"
      ]
     },
     "execution_count": 12,
     "metadata": {},
     "output_type": "execute_result"
    }
   ],
   "source": [
    "X.toarray()"
   ]
  },
  {
   "cell_type": "code",
   "execution_count": 13,
   "id": "d65e8017-fb65-4a84-98f0-8f1eb3e0fd83",
   "metadata": {},
   "outputs": [
    {
     "data": {
      "text/plain": [
       "(125, 1900)"
      ]
     },
     "execution_count": 13,
     "metadata": {},
     "output_type": "execute_result"
    }
   ],
   "source": [
    "X.toarray().shape"
   ]
  },
  {
   "cell_type": "code",
   "execution_count": 15,
   "id": "518f6c15-ca83-4d4b-ad3b-90f79c319a8f",
   "metadata": {
    "collapsed": true,
    "jupyter": {
     "outputs_hidden": true
    },
    "tags": []
   },
   "outputs": [
    {
     "data": {
      "text/html": [
       "<div>\n",
       "<style scoped>\n",
       "    .dataframe tbody tr th:only-of-type {\n",
       "        vertical-align: middle;\n",
       "    }\n",
       "\n",
       "    .dataframe tbody tr th {\n",
       "        vertical-align: top;\n",
       "    }\n",
       "\n",
       "    .dataframe thead th {\n",
       "        text-align: right;\n",
       "    }\n",
       "</style>\n",
       "<table border=\"1\" class=\"dataframe\">\n",
       "  <thead>\n",
       "    <tr style=\"text-align: right;\">\n",
       "      <th></th>\n",
       "      <th>18</th>\n",
       "      <th>3am</th>\n",
       "      <th>44</th>\n",
       "      <th>able</th>\n",
       "      <th>abyss</th>\n",
       "      <th>account</th>\n",
       "      <th>act</th>\n",
       "      <th>actress</th>\n",
       "      <th>admit</th>\n",
       "      <th>advice</th>\n",
       "      <th>...</th>\n",
       "      <th>yelled</th>\n",
       "      <th>yellow</th>\n",
       "      <th>yes</th>\n",
       "      <th>yesterdays</th>\n",
       "      <th>yo</th>\n",
       "      <th>yon</th>\n",
       "      <th>york</th>\n",
       "      <th>young</th>\n",
       "      <th>younger</th>\n",
       "      <th>youth</th>\n",
       "    </tr>\n",
       "    <tr>\n",
       "      <th>artist_name</th>\n",
       "      <th></th>\n",
       "      <th></th>\n",
       "      <th></th>\n",
       "      <th></th>\n",
       "      <th></th>\n",
       "      <th></th>\n",
       "      <th></th>\n",
       "      <th></th>\n",
       "      <th></th>\n",
       "      <th></th>\n",
       "      <th></th>\n",
       "      <th></th>\n",
       "      <th></th>\n",
       "      <th></th>\n",
       "      <th></th>\n",
       "      <th></th>\n",
       "      <th></th>\n",
       "      <th></th>\n",
       "      <th></th>\n",
       "      <th></th>\n",
       "      <th></th>\n",
       "    </tr>\n",
       "  </thead>\n",
       "  <tbody>\n",
       "    <tr>\n",
       "      <th>Of Monsters and Men</th>\n",
       "      <td>0.0</td>\n",
       "      <td>0.0</td>\n",
       "      <td>0.0</td>\n",
       "      <td>0.0</td>\n",
       "      <td>0.0</td>\n",
       "      <td>0.000000</td>\n",
       "      <td>0.0</td>\n",
       "      <td>0.0</td>\n",
       "      <td>0.0</td>\n",
       "      <td>0.0</td>\n",
       "      <td>...</td>\n",
       "      <td>0.0</td>\n",
       "      <td>0.0</td>\n",
       "      <td>0.000000</td>\n",
       "      <td>0.0</td>\n",
       "      <td>0.0</td>\n",
       "      <td>0.0</td>\n",
       "      <td>0.0</td>\n",
       "      <td>0.0</td>\n",
       "      <td>0.0</td>\n",
       "      <td>0.0</td>\n",
       "    </tr>\n",
       "    <tr>\n",
       "      <th>Of Monsters and Men</th>\n",
       "      <td>0.0</td>\n",
       "      <td>0.0</td>\n",
       "      <td>0.0</td>\n",
       "      <td>0.0</td>\n",
       "      <td>0.0</td>\n",
       "      <td>0.000000</td>\n",
       "      <td>0.0</td>\n",
       "      <td>0.0</td>\n",
       "      <td>0.0</td>\n",
       "      <td>0.0</td>\n",
       "      <td>...</td>\n",
       "      <td>0.0</td>\n",
       "      <td>0.0</td>\n",
       "      <td>0.000000</td>\n",
       "      <td>0.0</td>\n",
       "      <td>0.0</td>\n",
       "      <td>0.0</td>\n",
       "      <td>0.0</td>\n",
       "      <td>0.0</td>\n",
       "      <td>0.0</td>\n",
       "      <td>0.0</td>\n",
       "    </tr>\n",
       "    <tr>\n",
       "      <th>Of Monsters and Men</th>\n",
       "      <td>0.0</td>\n",
       "      <td>0.0</td>\n",
       "      <td>0.0</td>\n",
       "      <td>0.0</td>\n",
       "      <td>0.0</td>\n",
       "      <td>0.000000</td>\n",
       "      <td>0.0</td>\n",
       "      <td>0.0</td>\n",
       "      <td>0.0</td>\n",
       "      <td>0.0</td>\n",
       "      <td>...</td>\n",
       "      <td>0.0</td>\n",
       "      <td>0.0</td>\n",
       "      <td>0.000000</td>\n",
       "      <td>0.0</td>\n",
       "      <td>0.0</td>\n",
       "      <td>0.0</td>\n",
       "      <td>0.0</td>\n",
       "      <td>0.0</td>\n",
       "      <td>0.0</td>\n",
       "      <td>0.0</td>\n",
       "    </tr>\n",
       "    <tr>\n",
       "      <th>Of Monsters and Men</th>\n",
       "      <td>0.0</td>\n",
       "      <td>0.0</td>\n",
       "      <td>0.0</td>\n",
       "      <td>0.0</td>\n",
       "      <td>0.0</td>\n",
       "      <td>0.000000</td>\n",
       "      <td>0.0</td>\n",
       "      <td>0.0</td>\n",
       "      <td>0.0</td>\n",
       "      <td>0.0</td>\n",
       "      <td>...</td>\n",
       "      <td>0.0</td>\n",
       "      <td>0.0</td>\n",
       "      <td>0.000000</td>\n",
       "      <td>0.0</td>\n",
       "      <td>0.0</td>\n",
       "      <td>0.0</td>\n",
       "      <td>0.0</td>\n",
       "      <td>0.0</td>\n",
       "      <td>0.0</td>\n",
       "      <td>0.0</td>\n",
       "    </tr>\n",
       "    <tr>\n",
       "      <th>Of Monsters and Men</th>\n",
       "      <td>0.0</td>\n",
       "      <td>0.0</td>\n",
       "      <td>0.0</td>\n",
       "      <td>0.0</td>\n",
       "      <td>0.0</td>\n",
       "      <td>0.000000</td>\n",
       "      <td>0.0</td>\n",
       "      <td>0.0</td>\n",
       "      <td>0.0</td>\n",
       "      <td>0.0</td>\n",
       "      <td>...</td>\n",
       "      <td>0.0</td>\n",
       "      <td>0.0</td>\n",
       "      <td>0.000000</td>\n",
       "      <td>0.0</td>\n",
       "      <td>0.0</td>\n",
       "      <td>0.0</td>\n",
       "      <td>0.0</td>\n",
       "      <td>0.0</td>\n",
       "      <td>0.0</td>\n",
       "      <td>0.0</td>\n",
       "    </tr>\n",
       "    <tr>\n",
       "      <th>...</th>\n",
       "      <td>...</td>\n",
       "      <td>...</td>\n",
       "      <td>...</td>\n",
       "      <td>...</td>\n",
       "      <td>...</td>\n",
       "      <td>...</td>\n",
       "      <td>...</td>\n",
       "      <td>...</td>\n",
       "      <td>...</td>\n",
       "      <td>...</td>\n",
       "      <td>...</td>\n",
       "      <td>...</td>\n",
       "      <td>...</td>\n",
       "      <td>...</td>\n",
       "      <td>...</td>\n",
       "      <td>...</td>\n",
       "      <td>...</td>\n",
       "      <td>...</td>\n",
       "      <td>...</td>\n",
       "      <td>...</td>\n",
       "      <td>...</td>\n",
       "    </tr>\n",
       "    <tr>\n",
       "      <th>The Lumineers</th>\n",
       "      <td>0.0</td>\n",
       "      <td>0.0</td>\n",
       "      <td>0.0</td>\n",
       "      <td>0.0</td>\n",
       "      <td>0.0</td>\n",
       "      <td>0.000000</td>\n",
       "      <td>0.0</td>\n",
       "      <td>0.0</td>\n",
       "      <td>0.0</td>\n",
       "      <td>0.0</td>\n",
       "      <td>...</td>\n",
       "      <td>0.0</td>\n",
       "      <td>0.0</td>\n",
       "      <td>0.000000</td>\n",
       "      <td>0.0</td>\n",
       "      <td>0.0</td>\n",
       "      <td>0.0</td>\n",
       "      <td>0.0</td>\n",
       "      <td>0.0</td>\n",
       "      <td>0.0</td>\n",
       "      <td>0.0</td>\n",
       "    </tr>\n",
       "    <tr>\n",
       "      <th>The Lumineers</th>\n",
       "      <td>0.0</td>\n",
       "      <td>0.0</td>\n",
       "      <td>0.0</td>\n",
       "      <td>0.0</td>\n",
       "      <td>0.0</td>\n",
       "      <td>0.046372</td>\n",
       "      <td>0.0</td>\n",
       "      <td>0.0</td>\n",
       "      <td>0.0</td>\n",
       "      <td>0.0</td>\n",
       "      <td>...</td>\n",
       "      <td>0.0</td>\n",
       "      <td>0.0</td>\n",
       "      <td>0.000000</td>\n",
       "      <td>0.0</td>\n",
       "      <td>0.0</td>\n",
       "      <td>0.0</td>\n",
       "      <td>0.0</td>\n",
       "      <td>0.0</td>\n",
       "      <td>0.0</td>\n",
       "      <td>0.0</td>\n",
       "    </tr>\n",
       "    <tr>\n",
       "      <th>The Lumineers</th>\n",
       "      <td>0.0</td>\n",
       "      <td>0.0</td>\n",
       "      <td>0.0</td>\n",
       "      <td>0.0</td>\n",
       "      <td>0.0</td>\n",
       "      <td>0.000000</td>\n",
       "      <td>0.0</td>\n",
       "      <td>0.0</td>\n",
       "      <td>0.0</td>\n",
       "      <td>0.0</td>\n",
       "      <td>...</td>\n",
       "      <td>0.0</td>\n",
       "      <td>0.0</td>\n",
       "      <td>0.000000</td>\n",
       "      <td>0.0</td>\n",
       "      <td>0.0</td>\n",
       "      <td>0.0</td>\n",
       "      <td>0.0</td>\n",
       "      <td>0.0</td>\n",
       "      <td>0.0</td>\n",
       "      <td>0.0</td>\n",
       "    </tr>\n",
       "    <tr>\n",
       "      <th>The Lumineers</th>\n",
       "      <td>0.0</td>\n",
       "      <td>0.0</td>\n",
       "      <td>0.0</td>\n",
       "      <td>0.0</td>\n",
       "      <td>0.0</td>\n",
       "      <td>0.000000</td>\n",
       "      <td>0.0</td>\n",
       "      <td>0.0</td>\n",
       "      <td>0.0</td>\n",
       "      <td>0.0</td>\n",
       "      <td>...</td>\n",
       "      <td>0.0</td>\n",
       "      <td>0.0</td>\n",
       "      <td>0.000000</td>\n",
       "      <td>0.0</td>\n",
       "      <td>0.0</td>\n",
       "      <td>0.0</td>\n",
       "      <td>0.0</td>\n",
       "      <td>0.0</td>\n",
       "      <td>0.0</td>\n",
       "      <td>0.0</td>\n",
       "    </tr>\n",
       "    <tr>\n",
       "      <th>The Lumineers</th>\n",
       "      <td>0.0</td>\n",
       "      <td>0.0</td>\n",
       "      <td>0.0</td>\n",
       "      <td>0.0</td>\n",
       "      <td>0.0</td>\n",
       "      <td>0.000000</td>\n",
       "      <td>0.0</td>\n",
       "      <td>0.0</td>\n",
       "      <td>0.0</td>\n",
       "      <td>0.0</td>\n",
       "      <td>...</td>\n",
       "      <td>0.0</td>\n",
       "      <td>0.0</td>\n",
       "      <td>0.074853</td>\n",
       "      <td>0.0</td>\n",
       "      <td>0.0</td>\n",
       "      <td>0.0</td>\n",
       "      <td>0.0</td>\n",
       "      <td>0.0</td>\n",
       "      <td>0.0</td>\n",
       "      <td>0.0</td>\n",
       "    </tr>\n",
       "  </tbody>\n",
       "</table>\n",
       "<p>125 rows × 1900 columns</p>\n",
       "</div>"
      ],
      "text/plain": [
       "                      18  3am   44  able  abyss   account  act  actress  \\\n",
       "artist_name                                                               \n",
       "Of Monsters and Men  0.0  0.0  0.0   0.0    0.0  0.000000  0.0      0.0   \n",
       "Of Monsters and Men  0.0  0.0  0.0   0.0    0.0  0.000000  0.0      0.0   \n",
       "Of Monsters and Men  0.0  0.0  0.0   0.0    0.0  0.000000  0.0      0.0   \n",
       "Of Monsters and Men  0.0  0.0  0.0   0.0    0.0  0.000000  0.0      0.0   \n",
       "Of Monsters and Men  0.0  0.0  0.0   0.0    0.0  0.000000  0.0      0.0   \n",
       "...                  ...  ...  ...   ...    ...       ...  ...      ...   \n",
       "The Lumineers        0.0  0.0  0.0   0.0    0.0  0.000000  0.0      0.0   \n",
       "The Lumineers        0.0  0.0  0.0   0.0    0.0  0.046372  0.0      0.0   \n",
       "The Lumineers        0.0  0.0  0.0   0.0    0.0  0.000000  0.0      0.0   \n",
       "The Lumineers        0.0  0.0  0.0   0.0    0.0  0.000000  0.0      0.0   \n",
       "The Lumineers        0.0  0.0  0.0   0.0    0.0  0.000000  0.0      0.0   \n",
       "\n",
       "                     admit  advice  ...  yelled  yellow       yes  yesterdays  \\\n",
       "artist_name                         ...                                         \n",
       "Of Monsters and Men    0.0     0.0  ...     0.0     0.0  0.000000         0.0   \n",
       "Of Monsters and Men    0.0     0.0  ...     0.0     0.0  0.000000         0.0   \n",
       "Of Monsters and Men    0.0     0.0  ...     0.0     0.0  0.000000         0.0   \n",
       "Of Monsters and Men    0.0     0.0  ...     0.0     0.0  0.000000         0.0   \n",
       "Of Monsters and Men    0.0     0.0  ...     0.0     0.0  0.000000         0.0   \n",
       "...                    ...     ...  ...     ...     ...       ...         ...   \n",
       "The Lumineers          0.0     0.0  ...     0.0     0.0  0.000000         0.0   \n",
       "The Lumineers          0.0     0.0  ...     0.0     0.0  0.000000         0.0   \n",
       "The Lumineers          0.0     0.0  ...     0.0     0.0  0.000000         0.0   \n",
       "The Lumineers          0.0     0.0  ...     0.0     0.0  0.000000         0.0   \n",
       "The Lumineers          0.0     0.0  ...     0.0     0.0  0.074853         0.0   \n",
       "\n",
       "                      yo  yon  york  young  younger  youth  \n",
       "artist_name                                                 \n",
       "Of Monsters and Men  0.0  0.0   0.0    0.0      0.0    0.0  \n",
       "Of Monsters and Men  0.0  0.0   0.0    0.0      0.0    0.0  \n",
       "Of Monsters and Men  0.0  0.0   0.0    0.0      0.0    0.0  \n",
       "Of Monsters and Men  0.0  0.0   0.0    0.0      0.0    0.0  \n",
       "Of Monsters and Men  0.0  0.0   0.0    0.0      0.0    0.0  \n",
       "...                  ...  ...   ...    ...      ...    ...  \n",
       "The Lumineers        0.0  0.0   0.0    0.0      0.0    0.0  \n",
       "The Lumineers        0.0  0.0   0.0    0.0      0.0    0.0  \n",
       "The Lumineers        0.0  0.0   0.0    0.0      0.0    0.0  \n",
       "The Lumineers        0.0  0.0   0.0    0.0      0.0    0.0  \n",
       "The Lumineers        0.0  0.0   0.0    0.0      0.0    0.0  \n",
       "\n",
       "[125 rows x 1900 columns]"
      ]
     },
     "execution_count": 15,
     "metadata": {},
     "output_type": "execute_result"
    }
   ],
   "source": [
    "# create dataframe from the vector\n",
    "df = pd.DataFrame(X.toarray(), columns=vectorizer.get_feature_names(), index=artist['artist_name'])\n",
    "df"
   ]
  },
  {
   "cell_type": "code",
   "execution_count": 17,
   "id": "eda3ccf8-5b6c-4b83-ad91-64e463ad87c6",
   "metadata": {
    "collapsed": true,
    "jupyter": {
     "outputs_hidden": true
    },
    "tags": []
   },
   "outputs": [
    {
     "data": {
      "text/plain": [
       "artist_name\n",
       "Of Monsters and Men    1.0\n",
       "Of Monsters and Men    1.0\n",
       "Of Monsters and Men    1.0\n",
       "Of Monsters and Men    1.0\n",
       "Of Monsters and Men    1.0\n",
       "                      ... \n",
       "The Lumineers          1.0\n",
       "The Lumineers          1.0\n",
       "The Lumineers          1.0\n",
       "The Lumineers          1.0\n",
       "The Lumineers          1.0\n",
       "Length: 125, dtype: float64"
      ]
     },
     "execution_count": 17,
     "metadata": {},
     "output_type": "execute_result"
    }
   ],
   "source": [
    "# let's check whether sum of the vectors is 0 or not\n",
    "np.square(df).sum(axis=1)"
   ]
  },
  {
   "cell_type": "code",
   "execution_count": 18,
   "id": "0d5ee77e-21ae-45f7-a839-46d53e4bba19",
   "metadata": {},
   "outputs": [],
   "source": [
    "df2 = df.reset_index()"
   ]
  },
  {
   "cell_type": "markdown",
   "id": "bb6464e3-3637-4e25-ad6f-04807f0e3e72",
   "metadata": {
    "tags": []
   },
   "source": [
    "#### - Logistic Regression"
   ]
  },
  {
   "cell_type": "code",
   "execution_count": 20,
   "id": "445c96d6-6880-4676-b5c5-5d77b3c9ced1",
   "metadata": {},
   "outputs": [],
   "source": [
    "# define X, y\n",
    "X = df2.drop('artist_name', axis=1)\n",
    "y = artist['artist_name']\n"
   ]
  },
  {
   "cell_type": "code",
   "execution_count": 21,
   "id": "9bd57d43-c420-4873-b7b0-78ef26ade0d3",
   "metadata": {},
   "outputs": [
    {
     "data": {
      "text/plain": [
       "0.992"
      ]
     },
     "execution_count": 21,
     "metadata": {},
     "output_type": "execute_result"
    }
   ],
   "source": [
    "m = LogisticRegression(max_iter=1000, class_weight='balanced').fit(X, y)\n",
    "\n",
    "m.score(X, y)"
   ]
  },
  {
   "cell_type": "code",
   "execution_count": 38,
   "id": "d4809340-98f4-4420-8e45-775fd76b6070",
   "metadata": {},
   "outputs": [],
   "source": [
    "# fun part: try to predict song title too !!!\n",
    "y_2 = artist['song_title']"
   ]
  },
  {
   "cell_type": "markdown",
   "id": "77a22864",
   "metadata": {},
   "source": []
  },
  {
   "cell_type": "code",
   "execution_count": 39,
   "id": "8771e0b9-14b5-496c-888a-f6b6c76ff5f8",
   "metadata": {
    "collapsed": true,
    "jupyter": {
     "outputs_hidden": true
    },
    "tags": []
   },
   "outputs": [
    {
     "data": {
      "text/plain": [
       "0.0"
      ]
     },
     "execution_count": 39,
     "metadata": {},
     "output_type": "execute_result"
    }
   ],
   "source": [
    "m2 = LogisticRegression(multi_class='multinomial', solver='saga', penalty='l2', C=1.0).fit(X, y_2)\n",
    "\n",
    "m.score(X, y_2)"
   ]
  },
  {
   "cell_type": "code",
   "execution_count": 40,
   "id": "0d66492b-2382-4308-bbdb-4f003ea4c221",
   "metadata": {},
   "outputs": [
    {
     "data": {
      "text/plain": [
       "array(['Of Monsters and Men'], dtype=object)"
      ]
     },
     "execution_count": 40,
     "metadata": {},
     "output_type": "execute_result"
    }
   ],
   "source": [
    "m.predict(vectorizer.transform([\"though the truth may vary\"]))"
   ]
  },
  {
   "cell_type": "code",
   "execution_count": 41,
   "id": "b07cee7c-2a99-4061-9fbe-2452e31c44e1",
   "metadata": {},
   "outputs": [
    {
     "data": {
      "text/plain": [
       "\"song title: ['Dirty Paws'], name of artist: ['Of Monsters and Men']\""
      ]
     },
     "execution_count": 41,
     "metadata": {},
     "output_type": "execute_result"
    }
   ],
   "source": [
    "f'song title: {m2.predict(vectorizer.transform([\"dirty paws\"]))}, name of artist: {m.predict(vectorizer.transform([\"dirty paws\"]))}'"
   ]
  },
  {
   "cell_type": "markdown",
   "id": "005721cf-5832-4de3-824b-d2954981fc1a",
   "metadata": {},
   "source": [
    "## Find your song and artist"
   ]
  },
  {
   "cell_type": "code",
   "execution_count": 42,
   "id": "6c7b7900-5669-4408-814c-fef3802685f2",
   "metadata": {},
   "outputs": [
    {
     "name": "stdout",
     "output_type": "stream",
     "text": [
      "\n",
      "\n",
      "song title: ['Little Talks']\n",
      "name of artist: ['Of Monsters and Men']\n"
     ]
    }
   ],
   "source": [
    "line = input(\"Enter a line: \")\n",
    "\n",
    "print(\"\\n\")\n",
    "print(f'song title: {m2.predict(vectorizer.transform([line]))}')\n",
    "print(f'name of artist: {m.predict(vectorizer.transform([line]))}')"
   ]
  }
 ],
 "metadata": {
  "kernelspec": {
   "display_name": "Python 3 (ipykernel)",
   "language": "python",
   "name": "python3"
  },
  "language_info": {
   "codemirror_mode": {
    "name": "ipython",
    "version": 3
   },
   "file_extension": ".py",
   "mimetype": "text/x-python",
   "name": "python",
   "nbconvert_exporter": "python",
   "pygments_lexer": "ipython3",
   "version": "3.9.7"
  }
 },
 "nbformat": 4,
 "nbformat_minor": 5
}
